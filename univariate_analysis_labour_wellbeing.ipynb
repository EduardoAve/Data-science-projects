{
  "nbformat": 4,
  "nbformat_minor": 0,
  "metadata": {
    "colab": {
      "provenance": [],
      "include_colab_link": true
    },
    "kernelspec": {
      "name": "python3",
      "display_name": "Python 3"
    },
    "language_info": {
      "name": "python"
    }
  },
  "cells": [
    {
      "cell_type": "markdown",
      "metadata": {
        "id": "view-in-github",
        "colab_type": "text"
      },
      "source": [
        "<a href=\"https://colab.research.google.com/github/EduardoAve/Data-science-projects/blob/main/univariate_analysis_labour_wellbeing.ipynb\" target=\"_parent\"><img src=\"https://colab.research.google.com/assets/colab-badge.svg\" alt=\"Open In Colab\"/></a>"
      ]
    },
    {
      "cell_type": "markdown",
      "source": [
        "# Análisis Univariado sobre el Ingreso en EUR de Trabajadores de Educación Superior en Austria y República Checa\n",
        "\n",
        "### Eduardo José Avendaño Caicedo  \n",
        "### Sebastián Dow Valenzuela\n",
        "\n",
        "---\n",
        "\n",
        "## Análisis Exploratorio de Datos\n",
        "\n",
        "### PhD. Jose Armando Ordóñez  \n",
        "### MSc en Ciencia de Datos\n",
        "\n",
        "### Universidad Icesi\n",
        "### 1 de marzo de 2025\n"
      ],
      "metadata": {
        "id": "sm6N9ASbh7pP"
      }
    },
    {
      "cell_type": "markdown",
      "source": [
        "#Descripción del conjunto de datos\n",
        "\n",
        "El conjunto de datos contiene información sobre los ingresos laborales en universidades de Austria y República Checa. Para el análisis univariado se seleccionó la columna \"Income EUR\" (Ingreso en EUR).\n",
        "\n",
        "---"
      ],
      "metadata": {
        "id": "4O24bWBnh4wR"
      }
    },
    {
      "cell_type": "markdown",
      "source": [
        "# Jusitificación de la elección de la variable de Ingreso en EUR\n",
        "\n",
        "Se escogió esta variable debido a que deberá ser incluida en el análisis cuando se vaya a llevar a cabo la modelación. Adicionalmente, presenta más variablidad que otras variables y es una variable cuantitativa."
      ],
      "metadata": {
        "id": "DO3rxSpKlitp"
      }
    },
    {
      "cell_type": "code",
      "execution_count": 1,
      "metadata": {
        "id": "PmihRJVrW21y"
      },
      "outputs": [],
      "source": [
        "# Importación de bibliotecas\n",
        "\n",
        "import numpy as np\n",
        "import pandas as pd\n",
        "import matplotlib.pyplot as plt\n",
        "import seaborn as sns\n",
        "\n",
        "from google.colab import drive #no utilizaremos importaciones desde google drive"
      ]
    },
    {
      "cell_type": "code",
      "source": [
        "# Lectura del conjunto de datos\n",
        "\n",
        "url = 'https://raw.githubusercontent.com/EduardoAve/Data-science-projects/refs/heads/main/dataExample.csv'\n",
        "#url = 'https://raw.githubusercontent.com/EduardoAve/Data-science-projects/refs/heads/main/academic_data.csv' #Esta es otra variante del conjunto de datos que quisimos probar\n",
        "df = pd.read_csv(url)"
      ],
      "metadata": {
        "id": "L-F3-UtjbCC-"
      },
      "execution_count": 2,
      "outputs": []
    },
    {
      "cell_type": "markdown",
      "source": [
        "# Información del campo \"Income EUR\" en el dataframe"
      ],
      "metadata": {
        "id": "lShZZgrwkoko"
      }
    },
    {
      "cell_type": "code",
      "source": [
        "# Información sobre la variable \"Income EUR\"\n",
        "display(df['Income EUR'].info())\n",
        "display(df['Income EUR'].describe())\n",
        "print(df['Income EUR'].dtypes)"
      ],
      "metadata": {
        "colab": {
          "base_uri": "https://localhost:8080/",
          "height": 491
        },
        "id": "zDiN-FZzbLvn",
        "outputId": "7fcbe817-614d-461b-c4d1-c5997015d7fc"
      },
      "execution_count": 3,
      "outputs": [
        {
          "output_type": "stream",
          "name": "stdout",
          "text": [
            "<class 'pandas.core.series.Series'>\n",
            "RangeIndex: 2748 entries, 0 to 2747\n",
            "Series name: Income EUR\n",
            "Non-Null Count  Dtype  \n",
            "--------------  -----  \n",
            "2429 non-null   float64\n",
            "dtypes: float64(1)\n",
            "memory usage: 21.6 KB\n"
          ]
        },
        {
          "output_type": "display_data",
          "data": {
            "text/plain": [
              "None"
            ]
          },
          "metadata": {}
        },
        {
          "output_type": "display_data",
          "data": {
            "text/plain": [
              "count      2429.000000\n",
              "mean       4251.711647\n",
              "std       10588.861200\n",
              "min           0.000000\n",
              "25%        1458.090318\n",
              "50%        2100.000000\n",
              "75%        3700.000000\n",
              "max      130000.000000\n",
              "Name: Income EUR, dtype: float64"
            ],
            "text/html": [
              "<div>\n",
              "<style scoped>\n",
              "    .dataframe tbody tr th:only-of-type {\n",
              "        vertical-align: middle;\n",
              "    }\n",
              "\n",
              "    .dataframe tbody tr th {\n",
              "        vertical-align: top;\n",
              "    }\n",
              "\n",
              "    .dataframe thead th {\n",
              "        text-align: right;\n",
              "    }\n",
              "</style>\n",
              "<table border=\"1\" class=\"dataframe\">\n",
              "  <thead>\n",
              "    <tr style=\"text-align: right;\">\n",
              "      <th></th>\n",
              "      <th>Income EUR</th>\n",
              "    </tr>\n",
              "  </thead>\n",
              "  <tbody>\n",
              "    <tr>\n",
              "      <th>count</th>\n",
              "      <td>2429.000000</td>\n",
              "    </tr>\n",
              "    <tr>\n",
              "      <th>mean</th>\n",
              "      <td>4251.711647</td>\n",
              "    </tr>\n",
              "    <tr>\n",
              "      <th>std</th>\n",
              "      <td>10588.861200</td>\n",
              "    </tr>\n",
              "    <tr>\n",
              "      <th>min</th>\n",
              "      <td>0.000000</td>\n",
              "    </tr>\n",
              "    <tr>\n",
              "      <th>25%</th>\n",
              "      <td>1458.090318</td>\n",
              "    </tr>\n",
              "    <tr>\n",
              "      <th>50%</th>\n",
              "      <td>2100.000000</td>\n",
              "    </tr>\n",
              "    <tr>\n",
              "      <th>75%</th>\n",
              "      <td>3700.000000</td>\n",
              "    </tr>\n",
              "    <tr>\n",
              "      <th>max</th>\n",
              "      <td>130000.000000</td>\n",
              "    </tr>\n",
              "  </tbody>\n",
              "</table>\n",
              "</div><br><label><b>dtype:</b> float64</label>"
            ]
          },
          "metadata": {}
        },
        {
          "output_type": "stream",
          "name": "stdout",
          "text": [
            "float64\n"
          ]
        }
      ]
    },
    {
      "cell_type": "markdown",
      "source": [
        "# Histograma del Ingreso en EUR"
      ],
      "metadata": {
        "id": "0MG-wr45k0EJ"
      }
    },
    {
      "cell_type": "code",
      "source": [
        "plt.figure(figsize=(10, 6))\n",
        "sns.histplot(df['Income EUR'], kde=True, bins=30, color='blue', edgecolor='black')\n",
        "plt.title('Distribución del Ingreso en EUR')\n",
        "plt.xlabel('Ingreso en EUR')\n",
        "plt.ylabel('Frecuencia absoluta')\n",
        "plt.show()"
      ],
      "metadata": {
        "colab": {
          "base_uri": "https://localhost:8080/",
          "height": 566
        },
        "id": "Dp_cGEpOfh36",
        "outputId": "8aafbf7f-2cd6-4e14-a040-03b7f694ed7b"
      },
      "execution_count": 4,
      "outputs": [
        {
          "output_type": "display_data",
          "data": {
            "text/plain": [
              "<Figure size 1000x600 with 1 Axes>"
            ],
            "image/png": "[encoded data removed]"
          },
          "metadata": {}
        }
      ]
    },
    {
      "cell_type": "markdown",
      "source": [
        "No se ve claramente una distribución para esta variable aleatorioa, sin embargo, se logra notar una gran dispersión en los datos.\n",
        "\n",
        "Podemos observar como la mayoría de registros se encuentran entre 0 y 20000, sin embargo, existen otros tantos que excenden por mucho estos valores como es el caso del valor máximo de 130000."
      ],
      "metadata": {
        "id": "VLoZP1IxNo-d"
      }
    },
    {
      "cell_type": "markdown",
      "source": [
        "# Boxplot del ingreso en EUR"
      ],
      "metadata": {
        "id": "Lu1vHLWHk9IZ"
      }
    },
    {
      "cell_type": "code",
      "source": [
        "# Nuevo dataframe sin valores faltantes\n",
        "df['Income EUR'] = pd.to_numeric(df['Income EUR'], errors='coerce')\n",
        "df_filtered = df.dropna(subset=['Income EUR'])\n",
        "\n",
        "# Boxplot de 'Income EUR'\n",
        "plt.boxplot(df_filtered[\"Income EUR\"])\n",
        "plt.ylabel(\"Ingreso EUR\")\n",
        "plt.title(\"Boxplot del ingreso en EUR\")\n",
        "plt.show()"
      ],
      "metadata": {
        "colab": {
          "base_uri": "https://localhost:8080/",
          "height": 453
        },
        "id": "OW4m6YrtgsJS",
        "outputId": "174a7eba-4677-4865-8841-79948b837a97"
      },
      "execution_count": 5,
      "outputs": [
        {
          "output_type": "display_data",
          "data": {
            "text/plain": [
              "<Figure size 640x480 with 1 Axes>"
            ],
            "image/png": "[encoded data removed]"
          },
          "metadata": {}
        }
      ]
    },
    {
      "cell_type": "markdown",
      "source": [
        "El diagrama de cajas nos permite una mejor visualización de los datos atípicos que existen en esta columna. Podemos observar que hay muchos datos que superan por creces el valor de la desviación estándar (10588)."
      ],
      "metadata": {
        "id": "Q4QJmrp8OPVA"
      }
    },
    {
      "cell_type": "markdown",
      "source": [
        "Estadísticos de dispersión y conteo de valores faltantes"
      ],
      "metadata": {
        "id": "hriGZub-kf75"
      }
    },
    {
      "cell_type": "code",
      "source": [
        "# Calcular la desviación estándar, varianza y rango de 'Income EUR'\n",
        "print(\"Desviación estándar:\", df_filtered[\"Income EUR\"].std())\n",
        "print(\"Varianza:\", df_filtered[\"Income EUR\"].var())\n",
        "print(\"Rango:\", df_filtered[\"Income EUR\"].max() - df_filtered[\"Income EUR\"].min())\n",
        "\n",
        "# Ver el número de valores faltantes en la columna 'Income EUR' del df original\n",
        "print(\"Valores faltantes:\", df[\"Income EUR\"].isnull().sum())"
      ],
      "metadata": {
        "colab": {
          "base_uri": "https://localhost:8080/"
        },
        "id": "Sqg5RZW6lC8p",
        "outputId": "77dcb8b4-5ee4-4ef0-c8f1-8680af115ad5"
      },
      "execution_count": 6,
      "outputs": [
        {
          "output_type": "stream",
          "name": "stdout",
          "text": [
            "Desviación estándar: 10588.861200019166\n",
            "Varianza: 112123981.51327133\n",
            "Rango: 130000.0\n",
            "Valores faltantes: 319\n"
          ]
        }
      ]
    },
    {
      "cell_type": "markdown",
      "source": [
        "#Conclusiones del análisis de la variable 'Income EUR'\n",
        "\n",
        "- Alta Variabilidad en los Datos:\n",
        "Se observa una amplia dispersión en los valores de \"Income EUR\", lo cual indica que existen diferencias significativas en los salarios reportados.\n",
        "- Subgrupos en la Población:\n",
        "La variabilidad podría estar explicada por la existencia de subgrupos dentro de la muestra, por ejemplo, docentes que se dedican exclusivamente a la enseñanza versus aquellos que combinan su labor académica con trabajos en la industria. Este hecho sugiere que los salarios varían en función del rol y las responsabilidades adicionales.\n",
        "- Posibles Errores de Registro:\n",
        "La dispersión también podría deberse a inconsistencias en la forma en que se reportaron los salarios. Es factible que algunos participantes hayan ingresado su salario anual en lugar del salario mensual, lo que afecta la comparabilidad de los datos.\n",
        "- Implicaciones para el Análisis Posterior:\n",
        "Es recomendable realizar una limpieza y verificación adicional de los datos para identificar y corregir posibles errores o outliers. Esto puede incluir la revisión de la escala (mensual vs. anual) y la segmentación de la muestra para analizar de forma separada los diferentes subgrupos."
      ],
      "metadata": {
        "id": "wpzhb-QtOqmj"
      }
    },
    {
      "cell_type": "markdown",
      "source": [],
      "metadata": {
        "id": "RDEaIPsrlQdx"
      }
    }
  ]
}